{
 "cells": [
  {
   "cell_type": "code",
   "execution_count": 1,
   "metadata": {
    "scrolled": false
   },
   "outputs": [
    {
     "name": "stdout",
     "output_type": "stream",
     "text": [
      "(48, 8)\n",
      "0    0.19588\n",
      "dtype: float64\n"
     ]
    }
   ],
   "source": [
    "# -*- coding: utf-8 -*-\n",
    "from sklearn.linear_model import Lasso,LassoCV,ElasticNet,ElasticNetCV\n",
    "from sklearn.preprocessing import StandardScaler\n",
    "import glob\n",
    "import pandas as pd\n",
    "import numpy as np\n",
    "import copy\n",
    "from sklearn.model_selection import KFold, train_test_split\n",
    "from sklearn.ensemble import RandomForestRegressor\n",
    "from sklearn.linear_model import LogisticRegression\n",
    "import matplotlib.pyplot as plt\n",
    "import os\n",
    "import json\n",
    "import warnings\n",
    "warnings.filterwarnings('ignore')\n",
    "##############################\n",
    "#lassoで機械的に変数を削除して、上位の変数を残す変数に追加してもう一度lassoをかける\n",
    "##############################\n",
    "\n",
    "class std_class():\n",
    "    def __init__(self, data):\n",
    "        self.data = data \n",
    "    #データ標準化\n",
    "    def std(self):\n",
    "        data = self.data\n",
    "        scaler = StandardScaler()\n",
    "        scaler.fit(data.ix[:,1:])\n",
    "        scaler.transform(data.ix[:,1:])\n",
    "        data_std = pd.DataFrame(scaler.transform(data.ix[:,1:]), columns=data.ix[:,1:].columns)\n",
    "        data_std = pd.concat([data.ix[:,0], data_std],axis=1)\n",
    "        return data_std\n",
    "\n",
    "\n",
    "def predict(model, data_path = \"data/\" ,file_name = \"tokyo_2019.csv\"):\n",
    "    data = pd.read_csv(data_path+file_name)\n",
    "    #classを読み込む\n",
    "    std_instance = std_class(data)\n",
    "    data_std = std_instance.std()\n",
    "    data_std = data\n",
    "    pred = model.predict(data_std.ix[:,1:])\n",
    "    pred = pd.DataFrame(pred)\n",
    "    error = abs((data_std.ix[:,0] - pred.T) / data_std.ix[:,0])\n",
    "    output = pd.concat([data_std.ix[:,0],pred,error.T], axis=1)\n",
    "    output.to_csv(\"./output/predict.csv\")\n",
    "    print(error.T.mean())\n",
    "\n",
    "'''\n",
    "lassoで分析して、グラフの表示\n",
    "'''\n",
    "\n",
    "def main(data_path = \"data/\" ,file_name = \"tokyo_201518.csv\"):\n",
    "    data = pd.read_csv(data_path+file_name)\n",
    "    print(data.shape)\n",
    "    #標準化\n",
    "    #インスタンス生成\n",
    "    std_instance = std_class(data)\n",
    "    data_std = std_instance.std()\n",
    "    #サンプリング\n",
    "    X_train, X_test, Y_train, Y_test = train_test_split(data_std.ix[:,1:],data_std.ix[:,0], train_size=0.8,random_state=30)\n",
    "    test_data = pd.concat([Y_test, X_test],axis = 1)\n",
    "    test_data.to_csv(\"data/tokyo_2019.csv\", index=False)\n",
    "    #モデリング\n",
    "    model = Lasso(alpha=0.005,normalize=False,random_state=0)\n",
    "    model.fit(X_train , Y_train)\n",
    "    #model = LogisticRegression(penalty ='l1')\n",
    "    #model.fit(data_std.ix[:,1:] ,data_std.ix[:,0])\n",
    "    #pandasでグラフ化のため、DF化\n",
    "    coef = pd.DataFrame(model.coef_)\n",
    "    coef.index = X_train.columns\n",
    "    coef.to_csv(\"./output/coef.csv\")\n",
    "    coef = coef[coef[0] != 0]\n",
    "    #棒グラフで凡例消すグリッド\n",
    "    coef.plot(grid=True, kind='bar', legend=False, fontsize=5)\n",
    "    #軸ラベルつける\n",
    "    #plt.xticks(list(range(int(pd.DataFrame(X_train.ix[:,1:].columns).count()))),list(X_train.ix[:,1:].columns))\n",
    "    #plt.xticks([0,1,2,3,4,5,6,7,8,9,10],list(data_std.ix[:,1:].columns))\n",
    "    plt.subplots_adjust(bottom=0.5)\n",
    "    plt.savefig(data_path+'../output/graph.png')\n",
    "    predict(model = model)\n",
    "\n",
    "if __name__ == '__main__':\n",
    "    main()\n",
    "\n"
   ]
  },
  {
   "cell_type": "code",
   "execution_count": null,
   "metadata": {},
   "outputs": [],
   "source": []
  }
 ],
 "metadata": {
  "kernelspec": {
   "display_name": "Python 3",
   "language": "python",
   "name": "python3"
  },
  "language_info": {
   "codemirror_mode": {
    "name": "ipython",
    "version": 3
   },
   "file_extension": ".py",
   "mimetype": "text/x-python",
   "name": "python",
   "nbconvert_exporter": "python",
   "pygments_lexer": "ipython3",
   "version": "3.7.4"
  }
 },
 "nbformat": 4,
 "nbformat_minor": 2
}
